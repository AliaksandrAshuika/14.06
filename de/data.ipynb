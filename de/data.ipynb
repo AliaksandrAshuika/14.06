{
  "cells": [
    {
      "cell_type": "markdown",
      "metadata": {
        "colab_type": "text",
        "id": "MY_ID2_1"
      },
      "source": [
        "### Verbrauchen von Python-Generatoren\n",
        "\n",
        "Eine weitere gängige Datenquelle, die problemlos als `tf.data.Dataset` aufgenommen werden kann, ist der Python-Generator.\n",
        "\n",
        "Achtung: Obwohl dies ein praktischer Ansatz ist, ist die Portabilität und Skalierbarkeit eingeschränkt. Es muss in demselben Python-Prozess ausgeführt werden, der den Generator erstellt hat, und unterliegt weiterhin der Python [GIL](https://en.wikipedia.org/wiki/Global_interpreter_lock) ."
      ]
    },
    {
      "cell_type": "markdown",
      "metadata": {
        "colab_type": "text",
        "id": "MY_NEW2_1"
      },
      "source": [
        "### Verbrauchen von Python-Generatoren\n",
        "\n",
        "Eine weitere gängige Datenquelle, die problemlos als `tf.data.Dataset` aufgenommen werden kann, ist der Python-Generator.\n",
        "\n",
        "Achtung: Obwohl dies ein praktischer Ansatz ist, ist die Portabilität und Skalierbarkeit eingeschränkt. Es muss in demselben Python-Prozess ausgeführt werden, der den Generator erstellt hat, und unterliegt weiterhin der Python [GIL](https://en.wikipedia.org/wiki/Global_interpreter_lock) ."
      ]
    },
    {
      "cell_type": "code",
      "execution_count": 0,
      "metadata": {
        "colab": {
        },
        "colab_type": "code",
        "id": "MY_ID1_1"
      },
      "outputs": [

      ],
      "source": [
        "def count(stop):\n",
        "  i = 0\n",
        "  while i<stop:\n",
        "    yield i\n",
        "    i += 1"
      ]
    },
    {
      "cell_type": "code",
      "execution_count": 0,
      "metadata": {
        "colab": {
        },
        "colab_type": "code",
        "id": "MY_ID5_1"
      },
      "outputs": [

      ],
      "source": [
        "for n in count(5):\n",
        "  print(n)"
      ]
    },
    {
      "cell_type": "markdown",
      "metadata": {
        "colab_type": "text",
        "id": "MY_IDNEW_1"
      },
      "source": [
        "Der `Dataset.from_generator` Konstruktor konvertiert `tf.data.Dataset` .\n",
        "\n",
        "Der Konstruktor wird als Argumente des Callables übergeben.\n",
        "\n",
        "Die `output_types`"
      ]
    },
    {
      "cell_type": "markdown",
      "metadata": {
        "colab_type": "text",
        "id": "MY_ID3_1"
      },
      "source": [
        "Der `Dataset.from_generator` Konstruktor konvertiert den Python-Generator in ein voll funktionsfähiges `tf.data.Dataset` .\n",
        "\n",
        "Der Konstruktor nimmt ein Callable als Eingabe, keinen Iterator. Dies ermöglicht es ihm, den Generator neu zu starten, wenn er das Ende erreicht hat. Es benötigt ein optionales `args` , das als Argumente des Callables übergeben wird.\n",
        "\n",
        "Das `output_types` ist erforderlich, da `tf.data` intern einen `tf.dtype` erstellt und Graphkanten einen `tf.Graph`"
      ]
    },
    {
      "cell_type": "code",
      "execution_count": 0,
      "metadata": {
        "colab": {
        },
        "colab_type": "code",
        "id": "MY_ID4_1"
      },
      "outputs": [

      ],
      "source": [
        "ds_counter = tf.data.Dataset.from_generator(count, args=[25], output_types=tf.int32, output_shapes = (), )"
      ]
    }
  ]
}
